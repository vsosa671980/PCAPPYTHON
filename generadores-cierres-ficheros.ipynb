{
 "cells": [
  {
   "cell_type": "markdown",
   "metadata": {},
   "source": [
    "## Generadores"
   ]
  },
  {
   "cell_type": "code",
   "execution_count": null,
   "metadata": {},
   "outputs": [],
   "source": [
    "## Fragmento capaz de producir una serie de valores"
   ]
  },
  {
   "cell_type": "code",
   "execution_count": 2,
   "metadata": {},
   "outputs": [
    {
     "name": "stdout",
     "output_type": "stream",
     "text": [
      "1\n",
      "2\n",
      "3\n",
      "4\n",
      "5\n",
      "6\n",
      "7\n",
      "8\n",
      "9\n",
      "10\n",
      "11\n",
      "12\n",
      "13\n",
      "14\n",
      "15\n",
      "16\n",
      "17\n",
      "18\n",
      "19\n"
     ]
    }
   ],
   "source": [
    "for i in range(1,20,1):\n",
    "    print(i)"
   ]
  },
  {
   "cell_type": "code",
   "execution_count": 4,
   "metadata": {},
   "outputs": [],
   "source": [
    "## Formas de crear generador\n",
    "\n",
    "## Se hace con las funciones __iter__ y la función __next__\n",
    "## __iter solo se ejecuta una vez y la función next que se ejecuta en cada iteración de el for\n",
    "# Base = 2\n",
    "# Exponente 2-5\n",
    "\n",
    "class MisPotencias:\n",
    "    \n",
    "    def __init__(self,base,min_exponete,max_exponent) -> None:\n",
    "        self.base = base\n",
    "        self.exponente = min_exponete\n",
    "        self.max_exponete = max_exponent\n",
    "        \n",
    "        \n",
    "    def __iter__(self):\n",
    "        return self\n",
    "    \n",
    "    def __next__(self):\n",
    "        \n",
    "        if self.exponente <= self.max_exponete:\n",
    "            resultado = self.base ** self.exponente\n",
    "            self.exponente +=1\n",
    "            return resultado\n",
    "        \n",
    "        raise StopIteration ## Para parar la iteración\n"
   ]
  },
  {
   "cell_type": "code",
   "execution_count": 5,
   "metadata": {},
   "outputs": [
    {
     "name": "stdout",
     "output_type": "stream",
     "text": [
      "4\n",
      "8\n",
      "16\n",
      "32\n"
     ]
    }
   ],
   "source": [
    "for potencia in MisPotencias(2,2,5):\n",
    "    print(potencia)"
   ]
  },
  {
   "cell_type": "code",
   "execution_count": 6,
   "metadata": {},
   "outputs": [],
   "source": [
    "## Segunda forma de generar el generads\n",
    "## Usar yield\n",
    "## Devuelve el objeto generador\n",
    "\n",
    "def mis_potenias(base,min_exponente,max_exponente):\n",
    "    ## En cada iteracion el estado se guarda\n",
    "    for exponente in range(min_exponente,max_exponente + 1): \n",
    "        yield base ** exponente ## yield es un generador"
   ]
  },
  {
   "cell_type": "code",
   "execution_count": 9,
   "metadata": {},
   "outputs": [
    {
     "name": "stdout",
     "output_type": "stream",
     "text": [
      "<class 'generator'>\n",
      "4\n",
      "8\n",
      "16\n",
      "32\n"
     ]
    }
   ],
   "source": [
    "iterador = mis_potenias(2,2,5)\n",
    "\n",
    "print(type(iterador)) ## Devuelve el iterador\n",
    "\n",
    "for potencia in iterador:\n",
    "    print(potencia)"
   ]
  },
  {
   "cell_type": "code",
   "execution_count": 13,
   "metadata": {},
   "outputs": [
    {
     "name": "stdout",
     "output_type": "stream",
     "text": [
      "<function mi_potencia.<locals>.resultado at 0x0000021614D9C0E0>\n"
     ]
    }
   ],
   "source": [
    "## HAY QUE REVISARLO\n",
    "## CIERRES\n",
    "## Permite almacenar valores a pesar de que el contexto en el que se crearon no existe,se accede a valores que de normal no se tiene acceso a ellos\n",
    "\n",
    "def mi_potencia(base,exponente):\n",
    "    resultado = base ** exponente\n",
    "    \n",
    "    def resultado():\n",
    "        return resultado\n",
    "    return resultado ## Con esto definimos el cierre\n",
    " \n",
    "resul = mi_potencia(2,3)\n",
    "\n",
    "print(resul())\n",
    "\n"
   ]
  },
  {
   "cell_type": "code",
   "execution_count": 19,
   "metadata": {},
   "outputs": [
    {
     "name": "stdout",
     "output_type": "stream",
     "text": [
      "5\n",
      "15625\n",
      "[2, 4, 6, 8]\n"
     ]
    }
   ],
   "source": [
    "## FUNCIONES LAMBDA\n",
    "## Son funciones anónimas\n",
    "## Siempre tienen que devolver un valor\n",
    "\n",
    "fun1 = lambda:5  ## Función sin parametros de entrada\n",
    "print(fun1())\n",
    "\n",
    "func2 = lambda base,exponente : base ** exponente ## Con dos parametros de entrada\n",
    "print(func2(5,6))\n",
    "\n",
    "## Funcion MAP devuelve un iterador con los valores de la función dada\n",
    "\n",
    "enteros = [1,2,3,4]\n",
    "\n",
    "def calcular(elemento):\n",
    "    return elemento * 2\n",
    "\n",
    "mi_lista = list(map(calcular,enteros))\n",
    "\n",
    "print(mi_lista)\n",
    "\n"
   ]
  },
  {
   "cell_type": "code",
   "execution_count": 24,
   "metadata": {},
   "outputs": [
    {
     "name": "stdout",
     "output_type": "stream",
     "text": [
      "[2, 4, 6, 8]\n"
     ]
    }
   ],
   "source": [
    "enteros = [1,2,3,4]\n",
    "\n",
    "mi_lista = list(map(lambda elemento:elemento * 2,enteros))\n",
    "\n",
    "print(mi_lista)"
   ]
  },
  {
   "cell_type": "code",
   "execution_count": 25,
   "metadata": {},
   "outputs": [
    {
     "name": "stdout",
     "output_type": "stream",
     "text": [
      "[5]\n"
     ]
    }
   ],
   "source": [
    "##FILTER\n",
    "\n",
    "enteros = [1,2,3,4,5]\n",
    "\n",
    "def filtrado(elemento):\n",
    "    return elemento > 4\n",
    "    \n",
    "\n",
    "nueva = list(filter(filtrado,enteros))\n",
    "\n",
    "\n",
    "print(nueva)\n",
    "\n"
   ]
  },
  {
   "cell_type": "code",
   "execution_count": 26,
   "metadata": {},
   "outputs": [
    {
     "name": "stdout",
     "output_type": "stream",
     "text": [
      "[1, 2, 3, 4, 5]\n"
     ]
    }
   ],
   "source": [
    "## Filter con función anónima\n",
    "enteros = [1,2,3,4,5]\n",
    "nueva = list(filter(lambda elemento:elemento,enteros))\n",
    "print(nueva)\n"
   ]
  },
  {
   "cell_type": "markdown",
   "metadata": {},
   "source": [
    "## Procesado de Archivos"
   ]
  },
  {
   "cell_type": "code",
   "execution_count": 34,
   "metadata": {},
   "outputs": [
    {
     "name": "stdout",
     "output_type": "stream",
     "text": [
      "Hola soy u\n",
      "n fichero\n",
      "\n"
     ]
    }
   ],
   "source": [
    "## Entidad para vincular un archivo con el \n",
    "## Stream \n",
    "## Lo primero que hay que hacer es abrir el archivo\n",
    "## LA últmima operación es la de cerrar el archivo con close() para poder liberar recursos\n",
    "\n",
    "#1. ABRIMOS EL FICHERO\n",
    "stream = open(\"fichero.txt\",mode=\"r\",encoding=None)\n",
    "\n",
    "#2. LEER EL FICHERO\n",
    "\n",
    "texto = stream.read(10) ##Read lee todo el contenido de la vez o le pasamos parametro indicandolo\n",
    "\n",
    "print(texto)\n",
    "\n",
    "texto2 = stream.readline() ## Va leyendo linea a linea y luego devuelve una cadena vacia\n",
    "## Si quiero leer todas las lineas las tendria que meter dentro de un for\n"
   ]
  },
  {
   "cell_type": "code",
   "execution_count": 1,
   "metadata": {},
   "outputs": [
    {
     "ename": "NameError",
     "evalue": "name 'stream' is not defined",
     "output_type": "error",
     "traceback": [
      "\u001b[1;31m---------------------------------------------------------------------------\u001b[0m",
      "\u001b[1;31mNameError\u001b[0m                                 Traceback (most recent call last)",
      "\u001b[1;32md:\\Programacion\\Learn\\Python\\PCAP\\generadores-cierres-ficheros.ipynb Cell 15\u001b[0m line \u001b[0;36m3\n\u001b[0;32m      <a href='vscode-notebook-cell:/d%3A/Programacion/Learn/Python/PCAP/generadores-cierres-ficheros.ipynb#X20sZmlsZQ%3D%3D?line=0'>1</a>\u001b[0m \u001b[39m## Escritura de Fichero\u001b[39;00m\n\u001b[1;32m----> <a href='vscode-notebook-cell:/d%3A/Programacion/Learn/Python/PCAP/generadores-cierres-ficheros.ipynb#X20sZmlsZQ%3D%3D?line=2'>3</a>\u001b[0m stream\u001b[39m.\u001b[39mwrite\n\u001b[0;32m      <a href='vscode-notebook-cell:/d%3A/Programacion/Learn/Python/PCAP/generadores-cierres-ficheros.ipynb#X20sZmlsZQ%3D%3D?line=4'>5</a>\u001b[0m stream\u001b[39m.\u001b[39mwritelines\n",
      "\u001b[1;31mNameError\u001b[0m: name 'stream' is not defined"
     ]
    }
   ],
   "source": [
    "## Escritura de Fichero\n",
    "\n",
    "stream.write\n",
    "\n",
    "stream.writelines"
   ]
  },
  {
   "cell_type": "code",
   "execution_count": 7,
   "metadata": {},
   "outputs": [
    {
     "name": "stdout",
     "output_type": "stream",
     "text": [
      "bytearray(b'\\x00\\x00\\x00\\x00\\x00\\x00\\x00\\x00\\x00\\x00')\n",
      "bytearray(b'\\x00\\x01\\x02\\x03\\x04\\x05\\x06\\x07\\x08\\t')\n"
     ]
    }
   ],
   "source": [
    "##FICHEROS BINARIOS\n",
    "\n",
    "## Bytearray es un objeto que le pasamos el numero de bytes\n",
    "## Los elementos se pueden tratar como enteros\n",
    "\n",
    "data = bytearray(10)\n",
    "print(data)\n",
    "\n",
    "for i in range(0,10):\n",
    "    data[i] = i\n",
    "    \n",
    "print(data)\n",
    "\n",
    "## Se escriben con el método write\n",
    "\n",
    "stream = open(\"fichero_binario.bin\",mode=\"wb\")\n",
    "\n",
    "stream.write(data)\n",
    "\n",
    "stream.close()"
   ]
  },
  {
   "cell_type": "code",
   "execution_count": null,
   "metadata": {},
   "outputs": [],
   "source": [
    "num_bytes = stream.readinto()"
   ]
  }
 ],
 "metadata": {
  "kernelspec": {
   "display_name": "Python 3",
   "language": "python",
   "name": "python3"
  },
  "language_info": {
   "codemirror_mode": {
    "name": "ipython",
    "version": 3
   },
   "file_extension": ".py",
   "mimetype": "text/x-python",
   "name": "python",
   "nbconvert_exporter": "python",
   "pygments_lexer": "ipython3",
   "version": "3.11.5"
  }
 },
 "nbformat": 4,
 "nbformat_minor": 2
}
