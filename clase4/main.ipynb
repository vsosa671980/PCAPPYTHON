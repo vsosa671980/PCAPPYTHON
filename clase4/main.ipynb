{
 "cells": [
  {
   "cell_type": "markdown",
   "metadata": {},
   "source": [
    "## Cadenas"
   ]
  },
  {
   "cell_type": "code",
   "execution_count": 1,
   "metadata": {},
   "outputs": [],
   "source": [
    "cadena = \"Soy una cadena\""
   ]
  },
  {
   "cell_type": "code",
   "execution_count": 2,
   "metadata": {},
   "outputs": [
    {
     "name": "stdout",
     "output_type": "stream",
     "text": [
      "14\n"
     ]
    }
   ],
   "source": [
    "### Longitud de las cadenas\n",
    "print(len(cadena))"
   ]
  },
  {
   "cell_type": "code",
   "execution_count": 3,
   "metadata": {},
   "outputs": [
    {
     "ename": "TypeError",
     "evalue": "'str' object does not support item assignment",
     "output_type": "error",
     "traceback": [
      "\u001b[1;31m---------------------------------------------------------------------------\u001b[0m",
      "\u001b[1;31mTypeError\u001b[0m                                 Traceback (most recent call last)",
      "\u001b[1;32md:\\Programacion\\Learn\\Python\\PCAP\\clase4\\main.ipynb Cell 4\u001b[0m line \u001b[0;36m3\n\u001b[0;32m      <a href='vscode-notebook-cell:/d%3A/Programacion/Learn/Python/PCAP/clase4/main.ipynb#W4sZmlsZQ%3D%3D?line=0'>1</a>\u001b[0m \u001b[39m## Cadenas son inmutables,indica que no podemos cambiar los elementos\u001b[39;00m\n\u001b[0;32m      <a href='vscode-notebook-cell:/d%3A/Programacion/Learn/Python/PCAP/clase4/main.ipynb#W4sZmlsZQ%3D%3D?line=1'>2</a>\u001b[0m cadena \u001b[39m=\u001b[39m\u001b[39m\"\u001b[39m\u001b[39mHola\u001b[39m\u001b[39m\"\u001b[39m\n\u001b[1;32m----> <a href='vscode-notebook-cell:/d%3A/Programacion/Learn/Python/PCAP/clase4/main.ipynb#W4sZmlsZQ%3D%3D?line=2'>3</a>\u001b[0m cadena[\u001b[39m0\u001b[39;49m] \u001b[39m=\u001b[39m \u001b[39m\"\u001b[39m\u001b[39mh\u001b[39m\u001b[39m\"\u001b[39m\n",
      "\u001b[1;31mTypeError\u001b[0m: 'str' object does not support item assignment"
     ]
    }
   ],
   "source": [
    "## !!! Cadenas son inmutables,indica que no podemos cambiar los elementos\n",
    "cadena =\"Hola\"\n",
    "cadena[0] = \"h\"\n",
    "\n",
    "##Dara un type error"
   ]
  },
  {
   "cell_type": "code",
   "execution_count": 4,
   "metadata": {},
   "outputs": [
    {
     "name": "stdout",
     "output_type": "stream",
     "text": [
      "2108134237232\n"
     ]
    }
   ],
   "source": [
    "## Si creamos una nueva cadena, cambia la direccion de la memoria\n",
    "print(id(cadena))"
   ]
  },
  {
   "cell_type": "code",
   "execution_count": 6,
   "metadata": {},
   "outputs": [
    {
     "name": "stdout",
     "output_type": "stream",
     "text": [
      "2108134237232\n"
     ]
    }
   ],
   "source": [
    "cadena2 =cadena\n",
    "print(id(cadena2))"
   ]
  },
  {
   "cell_type": "code",
   "execution_count": 8,
   "metadata": {},
   "outputs": [
    {
     "name": "stdout",
     "output_type": "stream",
     "text": [
      "2108117256352\n",
      "2108117256352\n"
     ]
    }
   ],
   "source": [
    "cadena2 = cadena2 +  \"esto es la unión de cadena\"\n",
    "print(id(cadena2))\n",
    "## !!! Crea un nuevo objeto !!!\n",
    "print(id(cadena2))"
   ]
  },
  {
   "cell_type": "code",
   "execution_count": null,
   "metadata": {},
   "outputs": [],
   "source": [
    "## Concatenación compuesta\n",
    "\n",
    "cadena2 +=\"Mundo\""
   ]
  },
  {
   "cell_type": "code",
   "execution_count": 10,
   "metadata": {},
   "outputs": [
    {
     "name": "stdout",
     "output_type": "stream",
     "text": [
      "HolaHolaHola\n",
      "HolaHolaHolaHolaHolaHolaHolaHolaHolaHolaHolaHolaHolaHolaHola\n"
     ]
    }
   ],
   "source": [
    "## Replicacion de cadenas\n",
    "## Crea un nuevo objeto repitiendo la cadena n veces\n",
    "## El orden de la multiplicación se puede cambiar\n",
    "## EL numero de repeticiones debe ser si o si entero, me daria un TypeError\n",
    "## Si pongo el numero de repeticiones sea 0 devuelve una cadena vacia\n",
    "## Si le indico un booleano True es 1 False es 0\n",
    "cadena4 =\"Hola\" * 3\n",
    "print(cadena4)\n",
    "\n",
    "## Replicación compuesta\n",
    "cadena4 *= 5\n",
    "print(cadena4)"
   ]
  },
  {
   "cell_type": "code",
   "execution_count": 15,
   "metadata": {},
   "outputs": [
    {
     "name": "stdout",
     "output_type": "stream",
     "text": [
      "71\n",
      "G\n",
      "B\n"
     ]
    }
   ],
   "source": [
    "## Funciones \n",
    "## Ord(parametro de entrada codigo caracter(tabla un unicode))\n",
    "## No se puede pasar mas de un parametro\n",
    "## Tampoco se puede pasar un numero negativo\n",
    "## Si no estan dentro de la tabla da un ValueError\n",
    "print(ord(\"G\"))\n",
    "\n",
    "## chr Devuelve el caracter\n",
    "print(chr(71))\n",
    "\n",
    "## Obtener el caracter siguiente\n",
    "print(chr(ord(\"A\") + 1))\n",
    "\n",
    "## Los codigos de mayusculas estan antes de las minusculas"
   ]
  },
  {
   "cell_type": "code",
   "execution_count": 22,
   "metadata": {},
   "outputs": [
    {
     "name": "stdout",
     "output_type": "stream",
     "text": [
      "False\n",
      "True\n",
      "False\n",
      "False\n",
      "False\n",
      "False\n"
     ]
    }
   ],
   "source": [
    "## Comparación de cadenas\n",
    "\n",
    "## Para que dos cadenas sean iguales tienen que tener los mismos caracteres, como su numero\n",
    "\n",
    "perro =\"perro\"\n",
    "gato = \"gato\"\n",
    "chiguagua = \"perro\"\n",
    "\n",
    "print(perro == gato)\n",
    "print(perro == chiguagua)\n",
    "\n",
    "## Las cadenas se hacen de caracter a caracter,\n",
    "## Los caracteres minusculas son mayores\n",
    "## Siempre va a ser menor la que tenga menos caracteres\n",
    "print(\"abc\" < \"abC\")\n",
    "\n",
    "## Las cadenas de numeros se hacen de caracter a caracter no numeros\n",
    "## La comparación se hace a nivel de codigo ARCY\n",
    "print(\"1\" < \" 0\")\n",
    "print(\"1\" == \"01\")\n",
    "print(\"5\" < \"20\") ## Compara el primer caracter diferente"
   ]
  },
  {
   "cell_type": "code",
   "execution_count": 25,
   "metadata": {},
   "outputs": [
    {
     "name": "stdout",
     "output_type": "stream",
     "text": [
      "False\n",
      "<class 'int'>\n"
     ]
    },
    {
     "ename": "ValueError",
     "evalue": "invalid literal for int() with base 10: '10.5'",
     "output_type": "error",
     "traceback": [
      "\u001b[1;31m---------------------------------------------------------------------------\u001b[0m",
      "\u001b[1;31mValueError\u001b[0m                                Traceback (most recent call last)",
      "\u001b[1;32md:\\Programacion\\Learn\\Python\\PCAP\\clase4\\main.ipynb Cell 12\u001b[0m line \u001b[0;36m1\n\u001b[0;32m      <a href='vscode-notebook-cell:/d%3A/Programacion/Learn/Python/PCAP/clase4/main.ipynb#X15sZmlsZQ%3D%3D?line=6'>7</a>\u001b[0m \u001b[39mprint\u001b[39m(\u001b[39mtype\u001b[39m(valor))\n\u001b[0;32m      <a href='vscode-notebook-cell:/d%3A/Programacion/Learn/Python/PCAP/clase4/main.ipynb#X15sZmlsZQ%3D%3D?line=8'>9</a>\u001b[0m \u001b[39m## Si es flotante devuelve value error\u001b[39;00m\n\u001b[1;32m---> <a href='vscode-notebook-cell:/d%3A/Programacion/Learn/Python/PCAP/clase4/main.ipynb#X15sZmlsZQ%3D%3D?line=9'>10</a>\u001b[0m valor2 \u001b[39m=\u001b[39m \u001b[39mint\u001b[39;49m(\u001b[39m\"\u001b[39;49m\u001b[39m10.5\u001b[39;49m\u001b[39m\"\u001b[39;49m)\n",
      "\u001b[1;31mValueError\u001b[0m: invalid literal for int() with base 10: '10.5'"
     ]
    }
   ],
   "source": [
    "## Una cadena solo se puede comparar con flotante solo con comparación o desigual y siempre devuelve False\n",
    "## No se puede comparar con < >\n",
    "## Si se quieren comparar hay que oconvertirlo\n",
    "print(\"10\" == 10)\n",
    "\n",
    "valor = int(\"10\")\n",
    "print(type(valor))\n",
    "\n",
    "## Si es flotante devuelve value error\n",
    "valor2 = int(\"10.5\")"
   ]
  },
  {
   "cell_type": "code",
   "execution_count": 35,
   "metadata": {},
   "outputs": [
    {
     "name": "stdout",
     "output_type": "stream",
     "text": [
      "['A', 'B', 'C']\n",
      "[1, 2, 3]\n",
      "A\n",
      "2\n",
      "['A', 'modificado', 'C']\n",
      "[['A', 'modificado', 'C']]\n"
     ]
    }
   ],
   "source": [
    "### Listas Multidimensionales\n",
    "### Tienen las mismas caracteristicas que las unidimensionales\n",
    "lista = [\n",
    "    [\"A\",\"B\",\"C\"],\n",
    "    [1,2,3]\n",
    "]\n",
    "\n",
    "## Maneras de imprimir\n",
    "print(lista[0])\n",
    "print(lista[1])\n",
    "print(lista[0][0])\n",
    "\n",
    "## El numero de elementos.Devuelve las listas dentro , no el total de los elementos\n",
    "print(len(lista))\n",
    "\n",
    "## Indexación de Listas\n",
    "lista[0][1] = \"modificado\"\n",
    "print(lista[0])\n",
    "\n",
    "## Slices\n",
    "\n",
    "lista2 =lista[0:1]\n",
    "print(lista2)"
   ]
  },
  {
   "cell_type": "code",
   "execution_count": 39,
   "metadata": {},
   "outputs": [
    {
     "name": "stdout",
     "output_type": "stream",
     "text": [
      "[0, 1, 2, 3, 4]\n",
      "[0, 1, 2, 3, 4]\n",
      "[2, 4, 20]\n",
      "[2, 4, 20]\n"
     ]
    }
   ],
   "source": [
    "## Compresión de listas\n",
    "## Usa muy pocos recursos\n",
    "\n",
    "# 0 a 4\n",
    "mi_lista = []\n",
    "for i in range(5):\n",
    "    mi_lista.append(i)\n",
    "print(mi_lista)\n",
    "\n",
    "## Compresion\n",
    "## indico el elemento que vpy a ir añadiendo y luego lo que quiero hacer\n",
    "mi_lista2 =[i for i in range(5)]\n",
    "print(mi_lista2)\n",
    "\n",
    "## Que los elementos se multipiquen por 2\n",
    "\n",
    "for i in range(5):\n",
    "    mi_lista2.append(i * 2)\n",
    "    \n",
    "mi_lista3 = [i * 2 for i in range(5)]\n",
    "\n",
    "## Para hacer filtrado\n",
    "## Añado al final del for un if\n",
    "mi_lista4 = [2,3,4,5,20]\n",
    "pares = []\n",
    "\n",
    "for i in mi_lista4:\n",
    "    if(i % 2 == 0 ):\n",
    "      pares.append(i)\n",
    "print(pares)        \n",
    "\n",
    "pares2 =[i for i in mi_lista4 if i % 2 == 0]\n",
    "print(pares2)"
   ]
  },
  {
   "cell_type": "code",
   "execution_count": 46,
   "metadata": {},
   "outputs": [
    {
     "name": "stdout",
     "output_type": "stream",
     "text": [
      "[2, 'impar', 4, 'impar', 20]\n",
      "[2, 'IMPAR', 4, 'IMPAR', 20]\n",
      "[2, 'IMPAR', 4, 'IMPAR']\n",
      "[[3, 6, 9], [5, 10, 15], [6, 12, 18]]\n"
     ]
    }
   ],
   "source": [
    "## Substitución de elementos de las listas\n",
    "## Cambiar el impar por cadena impar\n",
    "impares =[]\n",
    "for i in mi_lista4:\n",
    "    if (i % 2 == 0 ):\n",
    "        impares.append(i)\n",
    "    else:\n",
    "        impares.append(\"impar\")\n",
    "print(impares)\n",
    "\n",
    "## Como es modificación lo ponemos delante\n",
    "impares2 = [i if i % 2 == 0 else \"IMPAR\" for i in mi_lista4]\n",
    "print(impares2)\n",
    "\n",
    "##Substitucion mas filtrado\n",
    "## Elementos mayor de 10\n",
    "\n",
    "impares3 = impares2 = [i if i % 2 == 0 else \"IMPAR\" for i in mi_lista4 if i <= 10]\n",
    "print(impares3)\n",
    "\n",
    "## Compresión con listas multidimensionales\n",
    "multi = [[i * j for i in [1,2,3]] for j in [3,5,6]]\n",
    "print(multi)\n",
    "\n",
    "\n"
   ]
  },
  {
   "cell_type": "code",
   "execution_count": 48,
   "metadata": {},
   "outputs": [
    {
     "name": "stdout",
     "output_type": "stream",
     "text": [
      "True\n"
     ]
    }
   ],
   "source": [
    "## Operaciones con in y Not in\n",
    "## Con Not in le indicamos si ese elemento no esta en la lista\n",
    "\n",
    "numeros = [1,2,3,4]\n",
    "\n",
    "print( 2 in numeros)\n",
    "\n",
    "## Lo mismo se puede hacer con las tuplas y diccionarios pero en los diccionarios\n",
    "## En los diccionarios comprueba si esta la clave\n"
   ]
  },
  {
   "cell_type": "code",
   "execution_count": 57,
   "metadata": {},
   "outputs": [
    {
     "name": "stdout",
     "output_type": "stream",
     "text": [
      "[24, 56, 36, 885]\n",
      "[24, 36, 56, 885]\n",
      "[885, 56, 36, 24]\n",
      "[24, 36, 56, 885]\n",
      "[885, 56, 36, 24]\n"
     ]
    }
   ],
   "source": [
    "## Ordenación de las listas\n",
    "\n",
    "## Metodo sort que es de la clase list\n",
    "\n",
    "lista_enteros =  [24,56,36,885]\n",
    "\n",
    "print(lista_enteros)\n",
    "lista_enteros.sort()\n",
    "print(lista_enteros)\n",
    "lista_enteros.sort(reverse=True)\n",
    "print(lista_enteros)\n",
    "\n",
    "## Funcion para crear una nueva lista ordenada sorted\n",
    "\n",
    "ordenada = sorted(lista_enteros)\n",
    "print(ordenada)\n",
    "\n",
    "## Metodo reverse, modifica el orden de los elementos de la misma lista\n",
    "ordenada.reverse()\n",
    "print(ordenada)"
   ]
  }
 ],
 "metadata": {
  "kernelspec": {
   "display_name": "Python 3",
   "language": "python",
   "name": "python3"
  },
  "language_info": {
   "codemirror_mode": {
    "name": "ipython",
    "version": 3
   },
   "file_extension": ".py",
   "mimetype": "text/x-python",
   "name": "python",
   "nbconvert_exporter": "python",
   "pygments_lexer": "ipython3",
   "version": "3.11.5"
  }
 },
 "nbformat": 4,
 "nbformat_minor": 2
}
