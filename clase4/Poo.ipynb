{
 "cells": [
  {
   "cell_type": "markdown",
   "metadata": {},
   "source": [
    "## Programacion Orientado a Objetos"
   ]
  },
  {
   "cell_type": "code",
   "execution_count": null,
   "metadata": {},
   "outputs": [],
   "source": [
    "## Clases\n",
    "## Herencia, aparecen las subclases,superclase,heredan de la clase Padre\n",
    "## Herencia múltiple un objeto puede tener varias superclases cosa que en otros lenguajes no se puede\n"
   ]
  },
  {
   "cell_type": "code",
   "execution_count": null,
   "metadata": {},
   "outputs": [],
   "source": [
    "## Definicion de Clase sin nada dentro\n",
    "## Las clases pueden tener atributos y métodos\n",
    "class Magdalena:\n",
    "    pass"
   ]
  },
  {
   "cell_type": "code",
   "execution_count": null,
   "metadata": {},
   "outputs": [],
   "source": [
    "## Creación de objeto ponemos el constructor,en este caso es vacia\n",
    "## Esto es instanciar un objeto\n",
    "\n",
    "mag1 = Magdalena()"
   ]
  },
  {
   "cell_type": "code",
   "execution_count": 2,
   "metadata": {},
   "outputs": [],
   "source": [
    "## Constructor de clases\n",
    "## Aunque no se define python crea uno vacio\n",
    "\n",
    "class Magdalena():\n",
    "    \n",
    "    ## El primer atributo es el mismo que es self,debe tener este como minimo\n",
    "    ## Se ejecuta al crear el objeto\n",
    "    ## El constructor no puede llevar return ya que no puede devolver nada a excepcion de None\n",
    "    \n",
    "    def __init__(self) -> None:\n",
    "        print(\"Magdalena creada\")\n",
    "        "
   ]
  },
  {
   "cell_type": "code",
   "execution_count": 3,
   "metadata": {},
   "outputs": [
    {
     "name": "stdout",
     "output_type": "stream",
     "text": [
      "Magdalena creada\n"
     ]
    }
   ],
   "source": [
    "mag1 = Magdalena()"
   ]
  },
  {
   "cell_type": "code",
   "execution_count": null,
   "metadata": {},
   "outputs": [],
   "source": [
    "## Atributos de las clases\n",
    "\n",
    "class Magdalena():\n",
    "    ##\n",
    "    def __init__(self) -> None:\n",
    "        self.peso = 30\n",
    "        self.chocolate = True\n",
    "        \n"
   ]
  },
  {
   "cell_type": "code",
   "execution_count": 5,
   "metadata": {},
   "outputs": [],
   "source": [
    "class Magdalena():\n",
    "    ## Definiendo los parametros, se pueden poner opcionales\n",
    "    def __init__(self,peso,chocolate,tamaño = \"Pequeño\") -> None:\n",
    "        self.peso = peso\n",
    "        self.chocolate = chocolate\n",
    "        self.tamaño = tamaño"
   ]
  },
  {
   "cell_type": "code",
   "execution_count": 7,
   "metadata": {},
   "outputs": [
    {
     "data": {
      "text/plain": [
       "'Pequeño'"
      ]
     },
     "execution_count": 7,
     "metadata": {},
     "output_type": "execute_result"
    }
   ],
   "source": [
    "mag1 = Magdalena(30,\"Negro\")\n",
    "mag1.tamaño"
   ]
  },
  {
   "cell_type": "code",
   "execution_count": 9,
   "metadata": {},
   "outputs": [],
   "source": [
    "## Atributos privados\n",
    "class Magdalena():\n",
    "    ## Definiendo los parametros, se pueden poner opcionales\n",
    "    def __init__(self,peso,chocolate,tamaño = \"Pequeño\") -> None:\n",
    "        self.peso = peso\n",
    "        self.chocolate = chocolate\n",
    "        self.tamaño = tamaño\n",
    "        self.__tiempo = 10\n"
   ]
  },
  {
   "cell_type": "code",
   "execution_count": 12,
   "metadata": {},
   "outputs": [
    {
     "data": {
      "text/plain": [
       "'Negro'"
      ]
     },
     "execution_count": 12,
     "metadata": {},
     "output_type": "execute_result"
    }
   ],
   "source": [
    "mag1 = Magdalena(30,\"Negro\")\n",
    "## Para conseguguri los privados con mag1._Magdalena_tiempo\n",
    "mag1.chocolate"
   ]
  },
  {
   "cell_type": "code",
   "execution_count": 13,
   "metadata": {},
   "outputs": [],
   "source": [
    "## Deficion de los métodos de las clases\n",
    "class Magdalena():\n",
    "    ## Definiendo los parametros, se pueden poner opcionales\n",
    "    def __init__(self,peso,chocolate,tamaño = \"Pequeño\") -> None:\n",
    "        self.peso = peso\n",
    "        self.chocolate = chocolate\n",
    "        self.tamaño = tamaño\n",
    "        self.__tiempo = 10\n",
    "        \n",
    "    def get_tiempo(self):\n",
    "        return self.__tiempo"
   ]
  },
  {
   "cell_type": "code",
   "execution_count": 17,
   "metadata": {},
   "outputs": [
    {
     "name": "stdout",
     "output_type": "stream",
     "text": [
      "El tiempo de horneado es 10\n"
     ]
    }
   ],
   "source": [
    "mag1 = Magdalena(30,\"Negro\")\n",
    "##Obtenemos el tiempo que es un atributo privado\n",
    "tiempo =mag1.get_tiempo()\n",
    "print (f\"El tiempo de horneado es {tiempo}\")"
   ]
  },
  {
   "cell_type": "code",
   "execution_count": null,
   "metadata": {},
   "outputs": [],
   "source": [
    "## Creación de métodos Privados, esto hace que no podamos acceder a el desde fuera de la propia clase\n",
    "\n",
    "class Magdalena():\n",
    "    ## Definiendo los parametros, se pueden poner opcionales\n",
    "    def __init__(self,peso,chocolate,tamaño = \"Pequeño\") -> None:\n",
    "        self.peso = peso\n",
    "        self.chocolate = chocolate\n",
    "        self.tamaño = tamaño\n",
    "        self.__tiempo = 10\n",
    "        \n",
    "    def __get_tiempo(self):\n",
    "        return self.__tiempo\n",
    "\n",
    "## Nombre Oculto es _Magdalena__get_tiempo"
   ]
  },
  {
   "cell_type": "code",
   "execution_count": 18,
   "metadata": {},
   "outputs": [
    {
     "data": {
      "text/plain": [
       "{'peso': 30,\n",
       " 'chocolate': 'Negro',\n",
       " 'tamaño': 'Pequeño',\n",
       " '_Magdalena__tiempo': 10}"
      ]
     },
     "execution_count": 18,
     "metadata": {},
     "output_type": "execute_result"
    }
   ],
   "source": [
    "## Un atirbuto que se crea por defecto en todas las clases y los atributos\n",
    "## __dic__  esto nos indica los mètodos y atributos de las clases\n",
    "mag1.__dict__"
   ]
  },
  {
   "cell_type": "code",
   "execution_count": 19,
   "metadata": {},
   "outputs": [
    {
     "data": {
      "text/plain": [
       "True"
      ]
     },
     "execution_count": 19,
     "metadata": {},
     "output_type": "execute_result"
    }
   ],
   "source": [
    "## Funcion que permite comprobar si tiene determinado atributo hasatrr\n",
    "## Devuelve True o False\n",
    "hasattr(mag1,\"peso\")"
   ]
  },
  {
   "cell_type": "code",
   "execution_count": 21,
   "metadata": {},
   "outputs": [
    {
     "data": {
      "text/plain": [
       "{'peso': 20,\n",
       " 'chocolate': 'Blanco',\n",
       " 'tamaño': 'Pequeño',\n",
       " '_Magdalena__tiempo': 10}"
      ]
     },
     "execution_count": 21,
     "metadata": {},
     "output_type": "execute_result"
    }
   ],
   "source": [
    "## VARIABLES DE INSTANCIA\n",
    "## Diferenciacion entre variables de instancia (son los atributos de los objetos)\n",
    "mag1= Magdalena(20,\"Blanco\")\n",
    "## Accedemos a ellas con el __dict__\n",
    "mag1.__dict__"
   ]
  },
  {
   "cell_type": "code",
   "execution_count": null,
   "metadata": {},
   "outputs": [],
   "source": [
    "## VARIABLES DE ____ SOLO CUANDO SE LLAME A METODO , FUERA DE CONSTRUCTOR O\n",
    "## DE FORMA EXTERNA, NO SE CREAN AL CREAR EL OBJETO CON EL CONSTRUCTOR\n",
    "\n",
    "class Magdalena():\n",
    "    ## Definiendo los parametros, se pueden poner opcionales\n",
    "    def __init__(self,peso,chocolate,tamaño = \"Pequeño\") -> None:\n",
    "        self.peso = peso\n",
    "        self.chocolate = chocolate\n",
    "        self.tamaño = tamaño\n",
    "        self.__tiempo = 10\n",
    "        \n",
    "    def __get_tiempo(self):\n",
    "        return self.__tiempo"
   ]
  },
  {
   "cell_type": "code",
   "execution_count": 24,
   "metadata": {},
   "outputs": [
    {
     "data": {
      "text/plain": [
       "{'peso': 20,\n",
       " 'chocolate': 'chocolate',\n",
       " 'tamaño': 'Pequeño',\n",
       " '_Magdalena__tiempo': 10,\n",
       " 'gusto': 'Bueno'}"
      ]
     },
     "execution_count": 24,
     "metadata": {},
     "output_type": "execute_result"
    }
   ],
   "source": [
    "mag1 = Magdalena(20,\"chocolate\")\n",
    "mag1.gusto = \"Bueno\"\n",
    "mag1.__dict__"
   ]
  },
  {
   "cell_type": "code",
   "execution_count": 26,
   "metadata": {},
   "outputs": [],
   "source": [
    "## VARIABLES DE CLASE ANTES DE EL CONSTRUCTOR\n",
    "\n",
    "class Magdalena():\n",
    "    \n",
    "    ##Variable de clase\n",
    "    ## Se modifican para todos los objetos de la clase\n",
    "    ## Solo aparecen en el dict de la clase no en el del objeto\n",
    "    contador = 10\n",
    "    ## Definiendo los parametros, se pueden poner opcionales\n",
    "    def __init__(self,peso,chocolate,tamaño = \"Pequeño\") -> None:\n",
    "        self.peso = peso\n",
    "        self.chocolate = chocolate\n",
    "        self.tamaño = tamaño\n",
    "        self.__tiempo = 10\n",
    "        ##Variable de clase accedemos asi, sin el self\n",
    "        ## Si que aparecen en el dict de la clase\n",
    "        Magdalena.contador += 1\n",
    "        \n",
    "    def __get_tiempo(self):\n",
    "        return self.__tiempo"
   ]
  },
  {
   "cell_type": "code",
   "execution_count": 27,
   "metadata": {},
   "outputs": [
    {
     "data": {
      "text/plain": [
       "mappingproxy({'__module__': '__main__',\n",
       "              'contador': 10,\n",
       "              '__init__': <function __main__.Magdalena.__init__(self, peso, chocolate, tamaño='Pequeño') -> None>,\n",
       "              '_Magdalena__get_tiempo': <function __main__.Magdalena.__get_tiempo(self)>,\n",
       "              '__dict__': <attribute '__dict__' of 'Magdalena' objects>,\n",
       "              '__weakref__': <attribute '__weakref__' of 'Magdalena' objects>,\n",
       "              '__doc__': None})"
      ]
     },
     "execution_count": 27,
     "metadata": {},
     "output_type": "execute_result"
    }
   ],
   "source": [
    "Magdalena.__dict__"
   ]
  },
  {
   "cell_type": "code",
   "execution_count": 31,
   "metadata": {},
   "outputs": [
    {
     "name": "stdout",
     "output_type": "stream",
     "text": [
      "14\n",
      "100\n"
     ]
    }
   ],
   "source": [
    "mag1 = Magdalena(20,\"Cococ\")\n",
    "print(mag1.contador)\n",
    "mag1.contador = 100\n",
    "print(mag1.contador)"
   ]
  },
  {
   "cell_type": "code",
   "execution_count": 33,
   "metadata": {},
   "outputs": [],
   "source": [
    "## Herencia\n",
    "\n",
    "class Magdalena():\n",
    "    ## Definiendo los parametros, se pueden poner opcionales\n",
    "    contador = 10\n",
    "    def __init__(self,peso,chocolate,tamaño = \"Pequeño\") -> None:\n",
    "        self.peso = peso\n",
    "        self.chocolate = chocolate\n",
    "        self.tamaño = tamaño\n",
    "        self.__tiempo = 10\n",
    "        Magdalena.contador += 1\n",
    "        \n",
    "    def __get_tiempo(self):\n",
    "        return self.__tiempo\n",
    "    def hornear(self,tiempos = 20):\n",
    "        print(\"Horneando ...\")\n",
    "        self.__tiempo += tiempos\n",
    "\n",
    "## Herencia\n",
    "\n",
    "class MagedalenaChocolate(Magdalena):\n",
    "    \n",
    "    def __init__(self,sabor):\n",
    "        pass\n",
    "       "
   ]
  },
  {
   "cell_type": "code",
   "execution_count": 37,
   "metadata": {},
   "outputs": [],
   "source": [
    "mag2 =MagedalenaChocolate(\"Fresa\")"
   ]
  },
  {
   "cell_type": "code",
   "execution_count": 38,
   "metadata": {},
   "outputs": [],
   "source": [
    "class MagedalenaChocolate(Magdalena):\n",
    "    \n",
    "    ## Para poder llamar al constructor de la clase padre\n",
    "    def __init__(self, peso, chocolate, tamaño=\"Pequeño\") -> None:\n",
    "        Magdalena.__init__(peso, chocolate, tamaño)"
   ]
  },
  {
   "cell_type": "code",
   "execution_count": 39,
   "metadata": {},
   "outputs": [],
   "source": [
    "class MagedalenaChocolate(Magdalena):\n",
    "    \n",
    "    ## Otra forma de llamar al constructor\n",
    "    ## El self no se pone en el constructor de el padre\n",
    "    def __init__(self, peso, chocolate, tamaño=\"Pequeño\") -> None:\n",
    "        super().__init__(peso, chocolate, tamaño)"
   ]
  },
  {
   "cell_type": "code",
   "execution_count": 48,
   "metadata": {},
   "outputs": [],
   "source": [
    "## HERENCIA CONFLICTOS\n",
    "## Que pasa si se define una variable de instancia con el mismo nonbre de uno de la superclase\n",
    "\n",
    "class Magdalena():\n",
    "    ## Definiendo los parametros, se pueden poner opcionales\n",
    "    contador = 10\n",
    "    def __init__(self,peso,chocolate,tamaño = \"Pequeño\") -> None:\n",
    "        self.peso = peso\n",
    "        self.chocolate = chocolate\n",
    "        self.tamaño = tamaño\n",
    "        self.__tiempo = 10\n",
    "        Magdalena.contador += 1\n",
    "        \n",
    "    def __get_tiempo(self):\n",
    "        return self.__tiempo\n",
    "    \n",
    "    def hornear(self,tiempos = 20):\n",
    "        print(\"Horneando ...\")\n",
    "        self.__tiempo += tiempos\n",
    "        \n",
    "class MagedalenaChocolate(Magdalena):\n",
    "    \n",
    "    ## Otra forma de llamar al constructor\n",
    "    ## El self no se pone en el constructor de el padre\n",
    "    def __init__(self, peso, chocolate, tamaño=\"Pequeño\") -> None:\n",
    "        super().__init__(peso, chocolate, tamaño)\n",
    "    ##Python primero busca en la clase hija y luego a la clase padre mas inmediata(Tipo poliformismo)\n",
    "    "
   ]
  },
  {
   "cell_type": "code",
   "execution_count": 49,
   "metadata": {},
   "outputs": [],
   "source": [
    "## Herencia Multiple\n",
    "\n",
    "class Estudiante:\n",
    "    contadorEStudiantes = 0\n",
    "    \n",
    "    def __init__(self,universidad) -> None:\n",
    "        self.universidad = universidad \n",
    "        Estudiante.contadorEStudiantes += 1\n",
    "class Trabajador:\n",
    "    contadorTrabajadores = 0\n",
    "    \n",
    "    def __init__(self,empresa) -> None:\n",
    "        self.empresa = empresa\n",
    "        Trabajador.contadorTrabajadores +=1\n",
    "class EstudianteMaster(Estudiante,Trabajador):\n",
    "    \n",
    "    def __init__(self, universidad,empresa) -> None:\n",
    "        Estudiante.__init__(self,universidad)\n",
    "        Trabajador.__init__(self,empresa)"
   ]
  },
  {
   "cell_type": "code",
   "execution_count": 51,
   "metadata": {},
   "outputs": [],
   "source": [
    "estudiante = EstudianteMaster(\"Chula\",\"MasChula\")"
   ]
  },
  {
   "cell_type": "code",
   "execution_count": 52,
   "metadata": {},
   "outputs": [
    {
     "data": {
      "text/plain": [
       "{'universidad': 'Chula', 'empresa': 'MasChula'}"
      ]
     },
     "execution_count": 52,
     "metadata": {},
     "output_type": "execute_result"
    }
   ],
   "source": [
    "estudiante.__dict__"
   ]
  },
  {
   "cell_type": "code",
   "execution_count": 54,
   "metadata": {},
   "outputs": [
    {
     "name": "stdout",
     "output_type": "stream",
     "text": [
      "True\n"
     ]
    }
   ],
   "source": [
    "## SUBCLAS\n",
    "## Devuelve True si hereda de la clase\n",
    "print(issubclass(EstudianteMaster,Estudiante))"
   ]
  },
  {
   "cell_type": "code",
   "execution_count": null,
   "metadata": {},
   "outputs": [],
   "source": [
    "## Conflictos de la herencia Multiple\n",
    "\n",
    "## Va primero comprobando en la clase hija , pero si el método esta en otra clase se ejecuta de izquierda a derecha cuando definimos la subclase(EstudianteMaster,Estudiante)\n",
    "## Si no lo tiene la clase va a la siguiente clase definida\n",
    "\n",
    "## Siempre que se pueda hay que intentar evitar la Herencia Multiple"
   ]
  },
  {
   "cell_type": "code",
   "execution_count": null,
   "metadata": {},
   "outputs": [],
   "source": [
    "## CLASES DEFINICION DE @En los métodos"
   ]
  }
 ],
 "metadata": {
  "kernelspec": {
   "display_name": "Python 3",
   "language": "python",
   "name": "python3"
  },
  "language_info": {
   "codemirror_mode": {
    "name": "ipython",
    "version": 3
   },
   "file_extension": ".py",
   "mimetype": "text/x-python",
   "name": "python",
   "nbconvert_exporter": "python",
   "pygments_lexer": "ipython3",
   "version": "3.11.5"
  }
 },
 "nbformat": 4,
 "nbformat_minor": 2
}
