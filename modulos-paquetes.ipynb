{
 "cells": [
  {
   "cell_type": "markdown",
   "metadata": {},
   "source": [
    "## Modulos y paquetes"
   ]
  },
  {
   "cell_type": "code",
   "execution_count": null,
   "metadata": {},
   "outputs": [],
   "source": [
    "## Modulo que continen las declaraciones de pyhton que se puede importar en otros módulos\n",
    "## Consta de nombre y de las entidades , funciones , variables y objetos.\n",
    "## Python proporciona una cantida de modulos\n",
    "## Hay que importarlos previamente\n",
    "\n",
    "## Formas de importar los modulos\n",
    "## import modulo"
   ]
  },
  {
   "cell_type": "code",
   "execution_count": 2,
   "metadata": {},
   "outputs": [
    {
     "name": "stdout",
     "output_type": "stream",
     "text": [
      "3.141592653589793\n",
      "1.0\n"
     ]
    }
   ],
   "source": [
    "## De esta forma importamos el módulo\n",
    "import math\n",
    "## Tenemos que poner antes el nombre de el módulo\n",
    "print(math.pi)\n",
    "\n",
    "print(math.sin(math.radians(90)))\n",
    "\n",
    "## Podemos importar varios a la vez\n",
    "import math,sys"
   ]
  },
  {
   "cell_type": "code",
   "execution_count": 1,
   "metadata": {},
   "outputs": [
    {
     "name": "stdout",
     "output_type": "stream",
     "text": [
      "3.141592653589793\n"
     ]
    }
   ],
   "source": [
    "### El namespace, \n",
    "\n",
    "pi = 89\n",
    "\n",
    "import math\n",
    "\n",
    "print(math.pi)"
   ]
  },
  {
   "cell_type": "code",
   "execution_count": 4,
   "metadata": {},
   "outputs": [
    {
     "name": "stdout",
     "output_type": "stream",
     "text": [
      "3.141592653589793\n",
      "1.0\n"
     ]
    }
   ],
   "source": [
    "## Segunda forma de importación determinadas entidades\n",
    "## De esta forma puede entrar en conflicto con las entidades\n",
    "## Cojera la ultima definida\n",
    "\n",
    "from math import pi, sin,radians\n",
    "\n",
    "## Para usarla directamente el nombre de la entidad\n",
    "print(pi)\n",
    "\n",
    "resultado = sin(radians(90))\n",
    "\n",
    "print(resultado)"
   ]
  },
  {
   "cell_type": "code",
   "execution_count": null,
   "metadata": {},
   "outputs": [],
   "source": [
    "## Tercera forma de la importación\n",
    "## No es recomendable usarla\n",
    "from math import *\n",
    "## De esta forma importamos todas las entidades sin necesida de poner el nombre de módulo"
   ]
  },
  {
   "cell_type": "code",
   "execution_count": 5,
   "metadata": {},
   "outputs": [
    {
     "name": "stdout",
     "output_type": "stream",
     "text": [
      "3.141592653589793\n"
     ]
    }
   ],
   "source": [
    "## Podemos trabajar con alias\n",
    "## ALIAS\n",
    "import math as mate\n",
    "\n",
    "print(mate.pi)"
   ]
  },
  {
   "cell_type": "code",
   "execution_count": 6,
   "metadata": {},
   "outputs": [
    {
     "name": "stdout",
     "output_type": "stream",
     "text": [
      "3.141592653589793\n"
     ]
    }
   ],
   "source": [
    "## Podemos hacer lo mismo con las entidades\n",
    "from math import pi as pipi\n",
    "\n",
    "print(pipi)"
   ]
  },
  {
   "cell_type": "code",
   "execution_count": 7,
   "metadata": {},
   "outputs": [
    {
     "name": "stdout",
     "output_type": "stream",
     "text": [
      "['__doc__', '__loader__', '__name__', '__package__', '__spec__', 'acos', 'acosh', 'asin', 'asinh', 'atan', 'atan2', 'atanh', 'cbrt', 'ceil', 'comb', 'copysign', 'cos', 'cosh', 'degrees', 'dist', 'e', 'erf', 'erfc', 'exp', 'exp2', 'expm1', 'fabs', 'factorial', 'floor', 'fmod', 'frexp', 'fsum', 'gamma', 'gcd', 'hypot', 'inf', 'isclose', 'isfinite', 'isinf', 'isnan', 'isqrt', 'lcm', 'ldexp', 'lgamma', 'log', 'log10', 'log1p', 'log2', 'modf', 'nan', 'nextafter', 'perm', 'pi', 'pow', 'prod', 'radians', 'remainder', 'sin', 'sinh', 'sqrt', 'tan', 'tanh', 'tau', 'trunc', 'ulp']\n"
     ]
    }
   ],
   "source": [
    "## Función para trabajar con los modulos dir()\n",
    "## Devuelve todas las entidades del módulo\n",
    "## Solo si se importa de la primera manera\n",
    "\n",
    "entidades = dir(math)\n",
    "print(entidades)"
   ]
  },
  {
   "cell_type": "code",
   "execution_count": 10,
   "metadata": {},
   "outputs": [
    {
     "name": "stdout",
     "output_type": "stream",
     "text": [
      "Hola desde el modulo\n",
      "Hola desde el modulo\n"
     ]
    }
   ],
   "source": [
    "## PAQUETES \n",
    "## Para crear un paquete se deben deguardar los módulos en el mismo directorio\n",
    "## Hay que crear un fichero __init__.py\n",
    "\n",
    "## Importación de lo modulo\n",
    "## Ponemos primero el nombr ede el paquete\n",
    "import paquete.mi_modulo\n",
    "\n",
    "paquete.mi_modulo.saludo()\n",
    "\n",
    "## Podemos crear un alias\n",
    "import paquete.mi_modulo as modulo\n",
    "\n",
    "modulo.saludo()"
   ]
  },
  {
   "cell_type": "code",
   "execution_count": 1,
   "metadata": {},
   "outputs": [
    {
     "name": "stdout",
     "output_type": "stream",
     "text": [
      "Has importado el modulo correctamente\n",
      "MI MODULO\n",
      "Hola desde el modulo\n"
     ]
    }
   ],
   "source": [
    "## Segunda forma de importar\n",
    "from paquete.mi_modulo import saludo\n",
    "\n",
    "saludo()"
   ]
  },
  {
   "cell_type": "code",
   "execution_count": 2,
   "metadata": {},
   "outputs": [
    {
     "name": "stdout",
     "output_type": "stream",
     "text": [
      "Soy un subpaquete\n"
     ]
    }
   ],
   "source": [
    "## Podemos crear subpaquetes\n",
    "## Dentro habria que crear los modulos \n",
    "##importarlo\n",
    "\n",
    "import paquete.subpaquete.subpaquete as subpaquete\n",
    "\n",
    "subpaquete.sub()\n"
   ]
  }
 ],
 "metadata": {
  "kernelspec": {
   "display_name": "Python 3",
   "language": "python",
   "name": "python3"
  },
  "language_info": {
   "codemirror_mode": {
    "name": "ipython",
    "version": 3
   },
   "file_extension": ".py",
   "mimetype": "text/x-python",
   "name": "python",
   "nbconvert_exporter": "python",
   "pygments_lexer": "ipython3",
   "version": "3.11.5"
  }
 },
 "nbformat": 4,
 "nbformat_minor": 2
}
