{
 "cells": [
  {
   "cell_type": "code",
   "execution_count": null,
   "metadata": {},
   "outputs": [],
   "source": []
  },
  {
   "cell_type": "markdown",
   "metadata": {},
   "source": [
    "## Excepciones"
   ]
  },
  {
   "cell_type": "code",
   "execution_count": 1,
   "metadata": {},
   "outputs": [
    {
     "ename": "IndexError",
     "evalue": "list index out of range",
     "output_type": "error",
     "traceback": [
      "\u001b[1;31m---------------------------------------------------------------------------\u001b[0m",
      "\u001b[1;31mIndexError\u001b[0m                                Traceback (most recent call last)",
      "\u001b[1;32md:\\Programacion\\Learn\\Python\\PCAP\\excepciones.ipynb Cell 3\u001b[0m line \u001b[0;36m2\n\u001b[0;32m      <a href='vscode-notebook-cell:/d%3A/Programacion/Learn/Python/PCAP/excepciones.ipynb#W2sZmlsZQ%3D%3D?line=0'>1</a>\u001b[0m mi_lista \u001b[39m=\u001b[39m [\u001b[39m2\u001b[39m,\u001b[39m3\u001b[39m,\u001b[39m4\u001b[39m]\n\u001b[1;32m----> <a href='vscode-notebook-cell:/d%3A/Programacion/Learn/Python/PCAP/excepciones.ipynb#W2sZmlsZQ%3D%3D?line=1'>2</a>\u001b[0m \u001b[39mprint\u001b[39m(mi_lista[\u001b[39m4\u001b[39;49m])\n",
      "\u001b[1;31mIndexError\u001b[0m: list index out of range"
     ]
    }
   ],
   "source": [
    "mi_lista = [2,3,4]\n",
    "print(mi_lista[4])\n",
    "\n",
    "## Lanza error de index out of range"
   ]
  },
  {
   "cell_type": "code",
   "execution_count": 3,
   "metadata": {},
   "outputs": [
    {
     "name": "stdout",
     "output_type": "stream",
     "text": [
      "Esto es un error\n",
      "Ya te vale con el error\n"
     ]
    }
   ],
   "source": [
    "## Controlar los errores con try\n",
    "\n",
    "try:\n",
    "    mi_lista = [2,3,4]\n",
    "    print(mi_lista[4])\n",
    "\n",
    "except Exception as e:\n",
    "    print(\"Esto es un error\")\n",
    "finally:\n",
    "    print(\"Ya te vale con el error\")\n",
    "    "
   ]
  },
  {
   "cell_type": "code",
   "execution_count": 9,
   "metadata": {},
   "outputs": [
    {
     "name": "stdout",
     "output_type": "stream",
     "text": [
      "No es un valor valido,introduce un numero\n"
     ]
    }
   ],
   "source": [
    "## Todas las excepciones son una jerarquia de clases\n",
    "\n",
    "## Si pongo except capturo todas las excepciones y hago con ellas lo mismo\n",
    "\n",
    "\n",
    "try:\n",
    "    divisor = float(input(\"Introduce el numero\"))\n",
    "    print(60/divisor)\n",
    "except ValueError:\n",
    "    print(\"No es un valor valido,introduce un numero\")\n",
    "except ZeroDivisionError:\n",
    "    print(\"No se puede dividir por 0\")\n",
    "except :\n",
    "    print(\"Otro tipo de error\")"
   ]
  },
  {
   "cell_type": "code",
   "execution_count": 10,
   "metadata": {},
   "outputs": [
    {
     "name": "stdout",
     "output_type": "stream",
     "text": [
      "0.7692307692307693\n",
      "Ha pasado sin problemas\n",
      "Siempre me ejecuto\n"
     ]
    }
   ],
   "source": [
    "## Agrupacion de Excepciones\n",
    "## Se hace como si fuera una tupla\n",
    "## Nunca hay que poner primero las mas generales delante de las más expecificas\n",
    "## El except siempre debe ir al final\n",
    "## Else solo cuando no hay ningun error\n",
    "## finally se ejecuta siempre\n",
    "\n",
    "try:\n",
    "    divisor = float(input(\"Introduce el numero\"))\n",
    "    print(60/divisor)\n",
    "except (ValueError,ZeroDivisionError):\n",
    "    print(\"No es un valor valido,introduce un numero\")\n",
    "else:\n",
    "    print(\"Ha pasado sin problemas\")\n",
    "finally:\n",
    "    print(\"Siempre me ejecuto\")"
   ]
  },
  {
   "cell_type": "code",
   "execution_count": null,
   "metadata": {},
   "outputs": [],
   "source": [
    "## Lanzar error cuando intere\n",
    "## Se hace con raise\n",
    "\n",
    "## RAISE\n",
    "try:\n",
    "    divisor = float(input(\"Introduce el numero\"))\n",
    "    print(60/divisor)\n",
    "    if divisor < 0:\n",
    "        raise ValueError\n",
    "except (ValueError,ZeroDivisionError):\n",
    "    print(\"No es un valor valido,introduce un numero\")\n",
    "else:\n",
    "    print(\"Ha pasado sin problemas\")\n",
    "finally:\n",
    "    print(\"Siempre me ejecuto\")\n"
   ]
  },
  {
   "cell_type": "code",
   "execution_count": 12,
   "metadata": {},
   "outputs": [
    {
     "name": "stdout",
     "output_type": "stream",
     "text": [
      "Error en función\n",
      "could not convert string to float: 'asd'\n"
     ]
    },
    {
     "ename": "ValueError",
     "evalue": "could not convert string to float: 'asd'",
     "output_type": "error",
     "traceback": [
      "\u001b[1;31m---------------------------------------------------------------------------\u001b[0m",
      "\u001b[1;31mValueError\u001b[0m                                Traceback (most recent call last)",
      "\u001b[1;32md:\\Programacion\\Learn\\Python\\PCAP\\excepciones.ipynb Cell 8\u001b[0m line \u001b[0;36m8\n\u001b[0;32m      <a href='vscode-notebook-cell:/d%3A/Programacion/Learn/Python/PCAP/excepciones.ipynb#X10sZmlsZQ%3D%3D?line=5'>6</a>\u001b[0m         \u001b[39mprint\u001b[39m(e)\n\u001b[0;32m      <a href='vscode-notebook-cell:/d%3A/Programacion/Learn/Python/PCAP/excepciones.ipynb#X10sZmlsZQ%3D%3D?line=6'>7</a>\u001b[0m         \u001b[39mraise\u001b[39;00m e\n\u001b[1;32m----> <a href='vscode-notebook-cell:/d%3A/Programacion/Learn/Python/PCAP/excepciones.ipynb#X10sZmlsZQ%3D%3D?line=7'>8</a>\u001b[0m \u001b[39mprint\u001b[39m(mi_function())\n",
      "\u001b[1;32md:\\Programacion\\Learn\\Python\\PCAP\\excepciones.ipynb Cell 8\u001b[0m line \u001b[0;36m7\n\u001b[0;32m      <a href='vscode-notebook-cell:/d%3A/Programacion/Learn/Python/PCAP/excepciones.ipynb#X10sZmlsZQ%3D%3D?line=4'>5</a>\u001b[0m \u001b[39mprint\u001b[39m(\u001b[39m\"\u001b[39m\u001b[39mError en función\u001b[39m\u001b[39m\"\u001b[39m)\n\u001b[0;32m      <a href='vscode-notebook-cell:/d%3A/Programacion/Learn/Python/PCAP/excepciones.ipynb#X10sZmlsZQ%3D%3D?line=5'>6</a>\u001b[0m \u001b[39mprint\u001b[39m(e)\n\u001b[1;32m----> <a href='vscode-notebook-cell:/d%3A/Programacion/Learn/Python/PCAP/excepciones.ipynb#X10sZmlsZQ%3D%3D?line=6'>7</a>\u001b[0m \u001b[39mraise\u001b[39;00m e\n",
      "\u001b[1;32md:\\Programacion\\Learn\\Python\\PCAP\\excepciones.ipynb Cell 8\u001b[0m line \u001b[0;36m3\n\u001b[0;32m      <a href='vscode-notebook-cell:/d%3A/Programacion/Learn/Python/PCAP/excepciones.ipynb#X10sZmlsZQ%3D%3D?line=0'>1</a>\u001b[0m \u001b[39mdef\u001b[39;00m \u001b[39mmi_function\u001b[39m():\n\u001b[0;32m      <a href='vscode-notebook-cell:/d%3A/Programacion/Learn/Python/PCAP/excepciones.ipynb#X10sZmlsZQ%3D%3D?line=1'>2</a>\u001b[0m     \u001b[39mtry\u001b[39;00m:\n\u001b[1;32m----> <a href='vscode-notebook-cell:/d%3A/Programacion/Learn/Python/PCAP/excepciones.ipynb#X10sZmlsZQ%3D%3D?line=2'>3</a>\u001b[0m         numero \u001b[39m=\u001b[39m \u001b[39mfloat\u001b[39;49m(\u001b[39minput\u001b[39;49m(\u001b[39m\"\u001b[39;49m\u001b[39mIntroduce un float\u001b[39;49m\u001b[39m\"\u001b[39;49m))\n\u001b[0;32m      <a href='vscode-notebook-cell:/d%3A/Programacion/Learn/Python/PCAP/excepciones.ipynb#X10sZmlsZQ%3D%3D?line=3'>4</a>\u001b[0m     \u001b[39mexcept\u001b[39;00m \u001b[39mException\u001b[39;00m \u001b[39mas\u001b[39;00m e:\n\u001b[0;32m      <a href='vscode-notebook-cell:/d%3A/Programacion/Learn/Python/PCAP/excepciones.ipynb#X10sZmlsZQ%3D%3D?line=4'>5</a>\u001b[0m         \u001b[39mprint\u001b[39m(\u001b[39m\"\u001b[39m\u001b[39mError en función\u001b[39m\u001b[39m\"\u001b[39m)\n",
      "\u001b[1;31mValueError\u001b[0m: could not convert string to float: 'asd'"
     ]
    }
   ],
   "source": [
    "def mi_function():\n",
    "    try:\n",
    "        numero = float(input(\"Introduce un float\"))\n",
    "    except Exception as e:\n",
    "        print(\"Error en función\")\n",
    "        print(e)\n",
    "        raise e\n",
    "print(mi_function())"
   ]
  }
 ],
 "metadata": {
  "kernelspec": {
   "display_name": "Python 3",
   "language": "python",
   "name": "python3"
  },
  "language_info": {
   "codemirror_mode": {
    "name": "ipython",
    "version": 3
   },
   "file_extension": ".py",
   "mimetype": "text/x-python",
   "name": "python",
   "nbconvert_exporter": "python",
   "pygments_lexer": "ipython3",
   "version": "3.11.5"
  }
 },
 "nbformat": 4,
 "nbformat_minor": 2
}
